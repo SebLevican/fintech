{
 "cells": [
  {
   "cell_type": "code",
   "execution_count": 2,
   "metadata": {},
   "outputs": [],
   "source": [
    "import pandas as pd"
   ]
  },
  {
   "cell_type": "code",
   "execution_count": 3,
   "metadata": {},
   "outputs": [],
   "source": [
    "from dataclasses import dataclass\n",
    "from typing import Dict\n",
    "\n",
    "@dataclass\n",
    "class DataIngestionArtifact:\n",
    "    files: Dict[str,pd.DataFrame]"
   ]
  },
  {
   "cell_type": "code",
   "execution_count": 4,
   "metadata": {},
   "outputs": [],
   "source": [
    "data_ingestion_artifact = DataIngestionArtifact(\n",
    "    files ={\n",
    "        'cards': 'gs://banks-transacion/cards_dirty.csv',\n",
    "        'transactions': 'gs://banks-transacion/transactions_part_0.csv',\n",
    "        'users': 'gs://banks-transacion/users_dirty.csv'\n",
    "    }\n",
    ")"
   ]
  },
  {
   "cell_type": "code",
   "execution_count": 5,
   "metadata": {},
   "outputs": [
    {
     "data": {
      "text/plain": [
       "'c:\\\\Users\\\\roser\\\\OneDrive\\\\Documentos\\\\fint'"
      ]
     },
     "execution_count": 5,
     "metadata": {},
     "output_type": "execute_result"
    }
   ],
   "source": [
    "import os\n",
    "os.getcwd()\n",
    "os.chdir('../../')\n",
    "os.getcwd()"
   ]
  },
  {
   "cell_type": "code",
   "execution_count": 6,
   "metadata": {},
   "outputs": [
    {
     "ename": "NameError",
     "evalue": "name 'DATA' is not defined",
     "output_type": "error",
     "traceback": [
      "\u001b[1;31m---------------------------------------------------------------------------\u001b[0m",
      "\u001b[1;31mNameError\u001b[0m                                 Traceback (most recent call last)",
      "Cell \u001b[1;32mIn[6], line 3\u001b[0m\n\u001b[0;32m      1\u001b[0m \u001b[38;5;28;01mfrom\u001b[39;00m\u001b[38;5;250m \u001b[39m\u001b[38;5;21;01mdatetime\u001b[39;00m\u001b[38;5;250m \u001b[39m\u001b[38;5;28;01mimport\u001b[39;00m datetime\n\u001b[0;32m      2\u001b[0m \u001b[38;5;28;01mimport\u001b[39;00m\u001b[38;5;250m \u001b[39m\u001b[38;5;21;01mos\u001b[39;00m\n\u001b[1;32m----> 3\u001b[0m \u001b[38;5;28;01mfrom\u001b[39;00m\u001b[38;5;250m \u001b[39m\u001b[38;5;21;01msrc\u001b[39;00m\u001b[38;5;21;01m.\u001b[39;00m\u001b[38;5;21;01mconstants\u001b[39;00m\u001b[38;5;250m \u001b[39m\u001b[38;5;28;01mimport\u001b[39;00m training_pipeline\n",
      "File \u001b[1;32mc:\\Users\\roser\\OneDrive\\Documentos\\fint\\src\\constants\\training_pipeline\\__init__.py:32\u001b[0m\n\u001b[0;32m     30\u001b[0m DATA_TRANSFORMATION_TRANSFORMED_DATA_DIR: \u001b[38;5;28mstr\u001b[39m \u001b[38;5;241m=\u001b[39m \u001b[38;5;124m'\u001b[39m\u001b[38;5;124mtransformed\u001b[39m\u001b[38;5;124m'\u001b[39m\n\u001b[0;32m     31\u001b[0m DATA_TRANSFORMATION_TRANSFORMED_OBJECT_DIR: \u001b[38;5;28mstr\u001b[39m \u001b[38;5;241m=\u001b[39m \u001b[38;5;124m'\u001b[39m\u001b[38;5;124mtransformed_object\u001b[39m\u001b[38;5;124m'\u001b[39m\n\u001b[1;32m---> 32\u001b[0m \u001b[43mDATA\u001b[49m\n",
      "\u001b[1;31mNameError\u001b[0m: name 'DATA' is not defined"
     ]
    }
   ],
   "source": [
    "from datetime import datetime\n",
    "import os\n",
    "from src.constants import training_pipeline"
   ]
  },
  {
   "cell_type": "code",
   "execution_count": 6,
   "metadata": {},
   "outputs": [],
   "source": [
    "class TrainingPipelineConfig:\n",
    "    def __init__(self,timestamp=datetime.now()):\n",
    "        timestamp =timestamp.strftime('%m_%d_%Y_%H_%M_S')\n",
    "        self.pipeline_name=training_pipeline.PIPELINE_NAME\n",
    "        self.artifact_name=training_pipeline.ARTIFACT_DIR\n",
    "        self.artifact_dir=os.path.join(self.artifact_name,timestamp)\n",
    "        self.model_dir=os.path.join('final_model')\n",
    "        self.timestamp: str=timestamp"
   ]
  },
  {
   "cell_type": "code",
   "execution_count": 1,
   "metadata": {},
   "outputs": [
    {
     "ename": "NameError",
     "evalue": "name 'TrainingPipelineConfig' is not defined",
     "output_type": "error",
     "traceback": [
      "\u001b[1;31m---------------------------------------------------------------------------\u001b[0m",
      "\u001b[1;31mNameError\u001b[0m                                 Traceback (most recent call last)",
      "Cell \u001b[1;32mIn[1], line 1\u001b[0m\n\u001b[1;32m----> 1\u001b[0m \u001b[38;5;28;43;01mclass\u001b[39;49;00m\u001b[38;5;250;43m \u001b[39;49m\u001b[38;5;21;43;01mDataIngestionConfig\u001b[39;49;00m\u001b[43m:\u001b[49m\n\u001b[0;32m      2\u001b[0m \u001b[43m    \u001b[49m\u001b[38;5;28;43;01mdef\u001b[39;49;00m\u001b[38;5;250;43m \u001b[39;49m\u001b[38;5;21;43m__init__\u001b[39;49m\u001b[43m(\u001b[49m\u001b[38;5;28;43mself\u001b[39;49m\u001b[43m,\u001b[49m\u001b[43mtraining_pipeline_config\u001b[49m\u001b[43m:\u001b[49m\u001b[43mTrainingPipelineConfig\u001b[49m\u001b[43m)\u001b[49m\u001b[43m:\u001b[49m\n\u001b[0;32m      3\u001b[0m \u001b[43m        \u001b[49m\u001b[38;5;28;43mself\u001b[39;49m\u001b[38;5;241;43m.\u001b[39;49m\u001b[43mdata_ingestion_dir\u001b[49m\u001b[38;5;241;43m=\u001b[39;49m\u001b[43mos\u001b[49m\u001b[38;5;241;43m.\u001b[39;49m\u001b[43mpath\u001b[49m\u001b[38;5;241;43m.\u001b[39;49m\u001b[43mjoin\u001b[49m\u001b[43m(\u001b[49m\n\u001b[0;32m      4\u001b[0m \u001b[43m            \u001b[49m\u001b[43mtraining_pipeline_config\u001b[49m\u001b[38;5;241;43m.\u001b[39;49m\u001b[43martifact_dir\u001b[49m\u001b[43m,\u001b[49m\u001b[43mtraining_pipeline\u001b[49m\u001b[38;5;241;43m.\u001b[39;49m\u001b[43mDATA_INGESTION_DIR_NAME\u001b[49m\n\u001b[0;32m      5\u001b[0m \u001b[43m        \u001b[49m\u001b[43m)\u001b[49m\n",
      "Cell \u001b[1;32mIn[1], line 2\u001b[0m, in \u001b[0;36mDataIngestionConfig\u001b[1;34m()\u001b[0m\n\u001b[0;32m      1\u001b[0m \u001b[38;5;28;01mclass\u001b[39;00m\u001b[38;5;250m \u001b[39m\u001b[38;5;21;01mDataIngestionConfig\u001b[39;00m:\n\u001b[1;32m----> 2\u001b[0m     \u001b[38;5;28;01mdef\u001b[39;00m\u001b[38;5;250m \u001b[39m\u001b[38;5;21m__init__\u001b[39m(\u001b[38;5;28mself\u001b[39m,training_pipeline_config:\u001b[43mTrainingPipelineConfig\u001b[49m):\n\u001b[0;32m      3\u001b[0m         \u001b[38;5;28mself\u001b[39m\u001b[38;5;241m.\u001b[39mdata_ingestion_dir\u001b[38;5;241m=\u001b[39mos\u001b[38;5;241m.\u001b[39mpath\u001b[38;5;241m.\u001b[39mjoin(\n\u001b[0;32m      4\u001b[0m             training_pipeline_config\u001b[38;5;241m.\u001b[39martifact_dir,training_pipeline\u001b[38;5;241m.\u001b[39mDATA_INGESTION_DIR_NAME\n\u001b[0;32m      5\u001b[0m         )\n\u001b[0;32m      6\u001b[0m         \u001b[38;5;28mself\u001b[39m\u001b[38;5;241m.\u001b[39mfiles \u001b[38;5;241m=\u001b[39m {\n\u001b[0;32m      7\u001b[0m             \u001b[38;5;124m\"\u001b[39m\u001b[38;5;124mcards\u001b[39m\u001b[38;5;124m\"\u001b[39m: \u001b[38;5;124m\"\u001b[39m\u001b[38;5;124mgs://banks-transaction/cards_dirty.csv\u001b[39m\u001b[38;5;124m\"\u001b[39m,\n\u001b[0;32m      8\u001b[0m             \u001b[38;5;124m\"\u001b[39m\u001b[38;5;124mtransactions\u001b[39m\u001b[38;5;124m\"\u001b[39m: \u001b[38;5;124m\"\u001b[39m\u001b[38;5;124mgs://banks-transaction/transactions_part_0.csv\u001b[39m\u001b[38;5;124m\"\u001b[39m,\n\u001b[0;32m      9\u001b[0m             \u001b[38;5;124m\"\u001b[39m\u001b[38;5;124musers\u001b[39m\u001b[38;5;124m\"\u001b[39m: \u001b[38;5;124m\"\u001b[39m\u001b[38;5;124mgs://banks-transaction/users_dirty.csv\u001b[39m\u001b[38;5;124m\"\u001b[39m\n\u001b[0;32m     10\u001b[0m         }\n",
      "\u001b[1;31mNameError\u001b[0m: name 'TrainingPipelineConfig' is not defined"
     ]
    }
   ],
   "source": [
    "class DataIngestionConfig:\n",
    "    def __init__(self,training_pipeline_config:TrainingPipelineConfig):\n",
    "        self.data_ingestion_dir=os.path.join(\n",
    "            training_pipeline_config.artifact_dir,training_pipeline.DATA_INGESTION_DIR_NAME\n",
    "        )\n",
    "        self.files = {\n",
    "            \"cards\": \"gs://banks-transaction/cards_dirty.csv\",\n",
    "            \"transactions\": \"gs://banks-transaction/transactions_part_0.csv\",\n",
    "            \"users\": \"gs://banks-transaction/users_dirty.csv\"\n",
    "        }"
   ]
  },
  {
   "cell_type": "code",
   "execution_count": 9,
   "metadata": {},
   "outputs": [],
   "source": [
    "import os\n",
    "import sys\n",
    "import numpy as np\n",
    "import pandas as pd\n",
    "from typing import List\n",
    "\n",
    "from src.exception.exception import FintechException\n",
    "from src.logging.logger import logging"
   ]
  },
  {
   "cell_type": "code",
   "execution_count": 16,
   "metadata": {},
   "outputs": [],
   "source": [
    "class DataIngestion:\n",
    "    def __init__(self,data_ingestion_config:DataIngestionConfig):\n",
    "        try:\n",
    "            self.data_ingestion_config=data_ingestion_config\n",
    "        except Exception as e:\n",
    "            raise FintechException(e,sys)\n",
    "        \n",
    "    def read_dataframes(self):\n",
    "        try:\n",
    "            self.cards = pd.read_csv(self.data_ingestion_config.files['cards'])\n",
    "            self.transactions = pd.read_csv(self.data_ingestion_config.files['transactions'])\n",
    "            self.users = pd.read_csv(self.data_ingestion_config.files['users'])\n",
    "\n",
    "            print('Files loaded')\n",
    "\n",
    "            return {\n",
    "                'cards': self.cards,\n",
    "                'transactions': self.transactions,\n",
    "                'users': self.users\n",
    "            }\n",
    "        except Exception as e:\n",
    "            raise FintechException(e,sys)\n",
    "        \n",
    "    def clean_dfs(self):\n",
    "        try:\n",
    "            dataframes = self.read_dataframes()\n",
    "            cards = dataframes['cards']\n",
    "            print(cards.head())\n",
    "        except Exception as e:\n",
    "            raise FintechException(e,sys)\n",
    "        \n",
    "    def inititate_data_ingestion(self):\n",
    "        try:\n",
    "            training_pipeline_config = TrainingPipelineConfig()\n",
    "            data_ingestion_config = DataIngestionConfig(training_pipeline_config)\n",
    "\n",
    "            # Crear instancia de DataIngestion\n",
    "            data_ingestion = DataIngestion(data_ingestion_config)\n",
    "\n",
    "            # Cargar DataFrames\n",
    "            dataframes = data_ingestion.read_dataframes()\n",
    "            dataingestionartifact= DataIngestionArtifact(dataframes)\n",
    "            return dataingestionartifact\n",
    "        except Exception as e:\n",
    "            raise FintechException(e,sys)"
   ]
  },
  {
   "cell_type": "code",
   "execution_count": 19,
   "metadata": {},
   "outputs": [
    {
     "name": "stdout",
     "output_type": "stream",
     "text": [
      "Files loaded\n"
     ]
    }
   ],
   "source": [
    "\n",
    "\n",
    "# Crear configuración\n",
    "training_pipeline_config = TrainingPipelineConfig()\n",
    "data_ingestion_config = DataIngestionConfig(training_pipeline_config)\n",
    "\n",
    "# Crear instancia de DataIngestion\n",
    "data_ingestion = DataIngestion(data_ingestion_config)\n",
    "\n",
    "# Cargar DataFrames\n",
    "dataframes = data_ingestion.inititate_data_ingestion()\n",
    "\n"
   ]
  },
  {
   "cell_type": "code",
   "execution_count": null,
   "metadata": {},
   "outputs": [
    {
     "data": {
      "text/plain": [
       "dict_keys(['cards', 'transactions', 'users'])"
      ]
     },
     "execution_count": 27,
     "metadata": {},
     "output_type": "execute_result"
    },
    {
     "ename": "",
     "evalue": "",
     "output_type": "error",
     "traceback": [
      "\u001b[1;31mThe Kernel crashed while executing code in the current cell or a previous cell. \n",
      "\u001b[1;31mPlease review the code in the cell(s) to identify a possible cause of the failure. \n",
      "\u001b[1;31mClick <a href='https://aka.ms/vscodeJupyterKernelCrash'>here</a> for more info. \n",
      "\u001b[1;31mView Jupyter <a href='command:jupyter.viewOutput'>log</a> for further details."
     ]
    }
   ],
   "source": [
    "dataframes.files.keys()"
   ]
  }
 ],
 "metadata": {
  "kernelspec": {
   "display_name": "venv",
   "language": "python",
   "name": "python3"
  },
  "language_info": {
   "codemirror_mode": {
    "name": "ipython",
    "version": 3
   },
   "file_extension": ".py",
   "mimetype": "text/x-python",
   "name": "python",
   "nbconvert_exporter": "python",
   "pygments_lexer": "ipython3",
   "version": "3.13.1"
  }
 },
 "nbformat": 4,
 "nbformat_minor": 2
}
