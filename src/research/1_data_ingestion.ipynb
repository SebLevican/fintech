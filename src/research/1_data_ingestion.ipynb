{
 "cells": [
  {
   "cell_type": "code",
   "execution_count": 1,
   "metadata": {},
   "outputs": [],
   "source": [
    "import pandas as pd"
   ]
  },
  {
   "cell_type": "code",
   "execution_count": 17,
   "metadata": {},
   "outputs": [],
   "source": [
    "from dataclasses import dataclass\n",
    "from typing import Dict\n",
    "\n",
    "@dataclass\n",
    "class DataIngestionArtifact:\n",
    "    files: Dict[str,pd.DataFrame]"
   ]
  },
  {
   "cell_type": "code",
   "execution_count": 3,
   "metadata": {},
   "outputs": [],
   "source": [
    "data_ingestion_artifact = DataIngestionArtifact(\n",
    "    files ={\n",
    "        'cards': 'gs://banks-transacion/cards_dirty.csv',\n",
    "        'transactions': 'gs://banks-transacion/transactions_part_0.csv',\n",
    "        'users': 'gs://banks-transacion/users_dirty.csv'\n",
    "    }\n",
    ")"
   ]
  },
  {
   "cell_type": "code",
   "execution_count": 4,
   "metadata": {},
   "outputs": [
    {
     "data": {
      "text/plain": [
       "'c:\\\\Users\\\\roser\\\\OneDrive\\\\Documentos\\\\fint'"
      ]
     },
     "execution_count": 4,
     "metadata": {},
     "output_type": "execute_result"
    }
   ],
   "source": [
    "import os\n",
    "os.getcwd()\n",
    "os.chdir('../../')\n",
    "os.getcwd()"
   ]
  },
  {
   "cell_type": "code",
   "execution_count": 5,
   "metadata": {},
   "outputs": [],
   "source": [
    "from datetime import datetime\n",
    "import os\n",
    "from src.constants import training_pipeline"
   ]
  },
  {
   "cell_type": "code",
   "execution_count": 6,
   "metadata": {},
   "outputs": [],
   "source": [
    "class TrainingPipelineConfig:\n",
    "    def __init__(self,timestamp=datetime.now()):\n",
    "        timestamp =timestamp.strftime('%m_%d_%Y_%H_%M_S')\n",
    "        self.pipeline_name=training_pipeline.PIPELINE_NAME\n",
    "        self.artifact_name=training_pipeline.ARTIFACT_DIR\n",
    "        self.artifact_dir=os.path.join(self.artifact_name,timestamp)\n",
    "        self.model_dir=os.path.join('final_model')\n",
    "        self.timestamp: str=timestamp"
   ]
  },
  {
   "cell_type": "code",
   "execution_count": 12,
   "metadata": {},
   "outputs": [],
   "source": [
    "class DataIngestionConfig:\n",
    "    def __init__(self,training_pipeline_config:TrainingPipelineConfig):\n",
    "        self.data_ingestion_dir=os.path.join(\n",
    "            training_pipeline_config.artifact_dir,training_pipeline.DATA_INGESTION_DIR_NAME\n",
    "        )\n",
    "        self.files = {\n",
    "            \"cards\": \"gs://banks-transaction/cards_dirty.csv\",\n",
    "            \"transactions\": \"gs://banks-transaction/transactions_part_0.csv\",\n",
    "            \"users\": \"gs://banks-transaction/users_dirty.csv\"\n",
    "        }"
   ]
  },
  {
   "cell_type": "code",
   "execution_count": 9,
   "metadata": {},
   "outputs": [],
   "source": [
    "import os\n",
    "import sys\n",
    "import numpy as np\n",
    "import pandas as pd\n",
    "from typing import List\n",
    "\n",
    "from src.exception.exception import FintechException\n",
    "from src.logging.logger import logging"
   ]
  },
  {
   "cell_type": "code",
   "execution_count": 16,
   "metadata": {},
   "outputs": [],
   "source": [
    "class DataIngestion:\n",
    "    def __init__(self,data_ingestion_config:DataIngestionConfig):\n",
    "        try:\n",
    "            self.data_ingestion_config=data_ingestion_config\n",
    "        except Exception as e:\n",
    "            raise FintechException(e,sys)\n",
    "        \n",
    "    def read_dataframes(self):\n",
    "        try:\n",
    "            self.cards = pd.read_csv(self.data_ingestion_config.files['cards'])\n",
    "            self.transactions = pd.read_csv(self.data_ingestion_config.files['transactions'])\n",
    "            self.users = pd.read_csv(self.data_ingestion_config.files['users'])\n",
    "\n",
    "            print('Files loaded')\n",
    "\n",
    "            return {\n",
    "                'cards': self.cards,\n",
    "                'transactions': self.transactions,\n",
    "                'users': self.users\n",
    "            }\n",
    "        except Exception as e:\n",
    "            raise FintechException(e,sys)\n",
    "        \n",
    "    def clean_dfs(self):\n",
    "        try:\n",
    "            dataframes = self.read_dataframes()\n",
    "            cards = dataframes['cards']\n",
    "            print(cards.head())\n",
    "        except Exception as e:\n",
    "            raise FintechException(e,sys)\n",
    "        \n",
    "    def inititate_data_ingestion(self):\n",
    "        try:\n",
    "            training_pipeline_config = TrainingPipelineConfig()\n",
    "            data_ingestion_config = DataIngestionConfig(training_pipeline_config)\n",
    "\n",
    "            # Crear instancia de DataIngestion\n",
    "            data_ingestion = DataIngestion(data_ingestion_config)\n",
    "\n",
    "            # Cargar DataFrames\n",
    "            dataframes = data_ingestion.read_dataframes()\n",
    "            dataingestionartifact= DataIngestionArtifact(dataframes)\n",
    "            return dataingestionartifact\n",
    "        except Exception as e:\n",
    "            raise FintechException(e,sys)"
   ]
  },
  {
   "cell_type": "code",
   "execution_count": 19,
   "metadata": {},
   "outputs": [
    {
     "name": "stdout",
     "output_type": "stream",
     "text": [
      "Files loaded\n"
     ]
    }
   ],
   "source": [
    "\n",
    "\n",
    "# Crear configuración\n",
    "training_pipeline_config = TrainingPipelineConfig()\n",
    "data_ingestion_config = DataIngestionConfig(training_pipeline_config)\n",
    "\n",
    "# Crear instancia de DataIngestion\n",
    "data_ingestion = DataIngestion(data_ingestion_config)\n",
    "\n",
    "# Cargar DataFrames\n",
    "dataframes = data_ingestion.inititate_data_ingestion()\n",
    "\n"
   ]
  },
  {
   "cell_type": "code",
   "execution_count": null,
   "metadata": {},
   "outputs": [],
   "source": []
  },
  {
   "cell_type": "code",
   "execution_count": 27,
   "metadata": {},
   "outputs": [
    {
     "data": {
      "text/plain": [
       "dict_keys(['cards', 'transactions', 'users'])"
      ]
     },
     "execution_count": 27,
     "metadata": {},
     "output_type": "execute_result"
    }
   ],
   "source": [
    "dataframes.files.keys()"
   ]
  }
 ],
 "metadata": {
  "kernelspec": {
   "display_name": "venv",
   "language": "python",
   "name": "python3"
  },
  "language_info": {
   "codemirror_mode": {
    "name": "ipython",
    "version": 3
   },
   "file_extension": ".py",
   "mimetype": "text/x-python",
   "name": "python",
   "nbconvert_exporter": "python",
   "pygments_lexer": "ipython3",
   "version": "3.13.1"
  }
 },
 "nbformat": 4,
 "nbformat_minor": 2
}
