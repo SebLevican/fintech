{
 "cells": [
  {
   "cell_type": "code",
   "execution_count": 1,
   "metadata": {},
   "outputs": [],
   "source": [
    "from dataclasses import dataclass\n",
    "from typing import Dict, Optional\n",
    "import pandas as pd"
   ]
  },
  {
   "cell_type": "code",
   "execution_count": null,
   "metadata": {},
   "outputs": [
    {
     "ename": "",
     "evalue": "",
     "output_type": "error",
     "traceback": [
      "\u001b[1;31mThe Kernel crashed while executing code in the current cell or a previous cell. \n",
      "\u001b[1;31mPlease review the code in the cell(s) to identify a possible cause of the failure. \n",
      "\u001b[1;31mClick <a href='https://aka.ms/vscodeJupyterKernelCrash'>here</a> for more info. \n",
      "\u001b[1;31mView Jupyter <a href='command:jupyter.viewOutput'>log</a> for further details."
     ]
    }
   ],
   "source": [
    "@dataclass\n",
    "class DataTransformationArtifact:\n",
    "    users: pd.DataFrame\n",
    "    cards: pd.DataFrame\n",
    "    merchants: pd.DataFrame\n",
    "    dates: pd.DataFrame\n",
    "    transactions: pd.DataFrame"
   ]
  },
  {
   "cell_type": "code",
   "execution_count": 2,
   "metadata": {},
   "outputs": [
    {
     "data": {
      "text/plain": [
       "'c:\\\\Users\\\\roser\\\\OneDrive\\\\Documentos\\\\fint'"
      ]
     },
     "execution_count": 2,
     "metadata": {},
     "output_type": "execute_result"
    }
   ],
   "source": [
    "import os\n",
    "os.chdir('../../')\n",
    "os.getcwd()"
   ]
  },
  {
   "cell_type": "code",
   "execution_count": null,
   "metadata": {},
   "outputs": [],
   "source": [
    "from datetime import datetime\n",
    "import os\n",
    "from src.constants import training_pipeline\n",
    "\n",
    "\n",
    "class TrainingPipelineConfig:\n",
    "    def __init__(self,timestamp=datetime.now()):\n",
    "        timestamp =timestamp.strftime('%m_%d_%Y_%H_%M_S')\n",
    "        self.pipeline_name=training_pipeline.PIPELINE_NAME\n",
    "        self.artifact_name=training_pipeline.ARTIFACT_DIR\n",
    "        self.artifact_dir=os.path.join(self.artifact_name,timestamp)\n",
    "        self.model_dir=os.path.join('final_model')\n",
    "        self.timestamp: str=timestamp\n",
    "\n",
    "class DataTransformationConfig:\n",
    "    def __init__(self,training_pipeline_config:TrainingPipelineConfig):\n",
    "        self.data_transformation: str= os.path.join(training_pipeline_config.artifact_dir, training_pipeline.DATA_TRANSFORMATION_DIR_NAME)\n",
    "        self.table_name: str= training_pipeline.DATA_TABLE_NAME\n",
    "        self.data_transformation_transformed_data_dir:str = training_pipeline.DATA_TRANSFORMATION_TRANSFORMED_DATA_DIR\n",
    "        self.data_transformation_transformed_object_dir:str = training_pipeline.DATA_TRANSFORMATION_TRANSFORMED_OBJECT_DIR\n",
    "\n",
    "        \n",
    "\n"
   ]
  },
  {
   "cell_type": "code",
   "execution_count": null,
   "metadata": {},
   "outputs": [],
   "source": [
    "import sys\n",
    "import os\n",
    "import numpy as np\n",
    "import pandas as pd\n",
    "from sklearn.impute import KNNImputer\n",
    "from sklearn.pipeline import Pipeline\n",
    "\n",
    "from src.entity.artifact_entity import (\n",
    "    DataValidationArtifact\n",
    ")\n",
    "\n",
    "from src.exception.exception import FintechException\n",
    "from src.logging.logger import logging\n",
    "from src.utils.common import users_table,cards_table,transactions_table,merchants_table,date_table\n",
    "\n",
    "\n",
    "from conn import engine\n",
    "\n"
   ]
  },
  {
   "cell_type": "code",
   "execution_count": null,
   "metadata": {},
   "outputs": [
    {
     "ename": "NameError",
     "evalue": "name 'DataTransformationArtifact' is not defined",
     "output_type": "error",
     "traceback": [
      "\u001b[1;31m---------------------------------------------------------------------------\u001b[0m",
      "\u001b[1;31mNameError\u001b[0m                                 Traceback (most recent call last)",
      "Cell \u001b[1;32mIn[5], line 1\u001b[0m\n\u001b[1;32m----> 1\u001b[0m \u001b[38;5;28;43;01mclass\u001b[39;49;00m\u001b[38;5;250;43m \u001b[39;49m\u001b[38;5;21;43;01mDataTransformation\u001b[39;49;00m\u001b[43m:\u001b[49m\n\u001b[0;32m      2\u001b[0m \u001b[43m    \u001b[49m\u001b[38;5;28;43;01mdef\u001b[39;49;00m\u001b[38;5;250;43m \u001b[39;49m\u001b[38;5;21;43m__init__\u001b[39;49m\u001b[43m(\u001b[49m\u001b[38;5;28;43mself\u001b[39;49m\u001b[43m,\u001b[49m\u001b[43m \u001b[49m\u001b[43mdata_validation_artifact\u001b[49m\u001b[43m:\u001b[49m\u001b[43m \u001b[49m\u001b[43mDataValidationArtifact\u001b[49m\u001b[43m,\u001b[49m\u001b[43m \u001b[49m\u001b[43mdata_transformation_config\u001b[49m\u001b[43m:\u001b[49m\u001b[43m \u001b[49m\u001b[43mDataTransformationArtifact\u001b[49m\u001b[43m)\u001b[49m\u001b[43m:\u001b[49m\n\u001b[0;32m      3\u001b[0m \u001b[43m        \u001b[49m\u001b[38;5;28;43;01mtry\u001b[39;49;00m\u001b[43m:\u001b[49m\n",
      "Cell \u001b[1;32mIn[5], line 2\u001b[0m, in \u001b[0;36mDataTransformation\u001b[1;34m()\u001b[0m\n\u001b[0;32m      1\u001b[0m \u001b[38;5;28;01mclass\u001b[39;00m\u001b[38;5;250m \u001b[39m\u001b[38;5;21;01mDataTransformation\u001b[39;00m:\n\u001b[1;32m----> 2\u001b[0m     \u001b[38;5;28;01mdef\u001b[39;00m\u001b[38;5;250m \u001b[39m\u001b[38;5;21m__init__\u001b[39m(\u001b[38;5;28mself\u001b[39m, data_validation_artifact: DataValidationArtifact, data_transformation_config: \u001b[43mDataTransformationArtifact\u001b[49m):\n\u001b[0;32m      3\u001b[0m         \u001b[38;5;28;01mtry\u001b[39;00m:\n\u001b[0;32m      4\u001b[0m             \u001b[38;5;28mself\u001b[39m\u001b[38;5;241m.\u001b[39mdata_validation_artifact:DataValidationArtifact\u001b[38;5;241m=\u001b[39mdata_validation_artifact\n",
      "\u001b[1;31mNameError\u001b[0m: name 'DataTransformationArtifact' is not defined"
     ]
    }
   ],
   "source": [
    "class DataTransformation:\n",
    "    def __init__(self, data_validation_artifact: DataValidationArtifact, data_transformation_config: DataTransformationArtifact):\n",
    "        try:\n",
    "            self.data_validation_artifact:DataValidationArtifact=data_validation_artifact\n",
    "            self.data_transformation_config:DataTransformationConfig=data_transformation_config\n",
    "        \n",
    "        except Exception as e:\n",
    "            raise FintechException(e,sys)\n",
    "        \n",
    "    def create_database_conn(self):\n",
    "        try:\n",
    "            with engine.connect() as connection:\n",
    "                connection.execute(users_table)\n",
    "                connection.execute(cards_table)\n",
    "                connection.execute(merchants_table)\n",
    "                connection.execute(transactions_table)\n",
    "                connection.execute(date_table)\n",
    "        except Exception as e:\n",
    "            raise FintechException(e, sys)\n",
    "\n",
    "    def upload_to_db(self,df):\n",
    "        df_users = df['users'][[\"id\", \"gender\", \"birth_year\", \"birth_month\", \"current_age\", \n",
    "               \"retirement_age\", \"per_capita_income\", \"yearly_income\", \n",
    "               \"total_debt\", \"credit_score\", \"num_credit_cards\"]]\n",
    "\n",
    "        df_cards = df['cards'][[\"id\", \"client_id\", \"card_brand\", \"card_type\", \"has_chip\", \n",
    "                    \"num_cards_issued\", \"credit_limit\", \"acct_open_date\", \n",
    "                    \"year_pin_last_changed\", \"card_on_dark_web\"]]\n",
    "\n",
    "        df_merchants = df['transactions'][[\"id\", \"merchant_city\", \"merchant_state\", \"zip\", \"mcc\"]]\n",
    "\n",
    "        df_dates = df['transactions'][[\"date\"]].drop_duplicates()\n",
    "        df_dates[\"year\"] = df_dates[\"date\"].dt.year\n",
    "        df_dates[\"month\"] = df_dates[\"date\"].dt.month\n",
    "        df_dates[\"day\"] = df_dates[\"date\"].dt.day\n",
    "        df_dates[\"quarter\"] = df_dates[\"date\"].dt.quarter\n",
    "        df_dates[\"week_of_year\"] = df_dates[\"date\"].dt.isocalendar().week\n",
    "\n",
    "        df_transactions = df['transactions'][[\"id\", \"client_id\", \"card_id\", \"merchant_id\", \n",
    "                            \"date\", \"amount\", \"use_chip\", \"errors\"]]\n",
    "        \n",
    "\n",
    "        try:\n",
    "            df_users.to_sql('dim_users', con=engine, if_exists='append', index=False)\n",
    "            df_cards.to_sql('dim_cards', con=engine, if_exists='append', index=False)\n",
    "            df_merchants.to_sql('dim_merchants', con=engine, if_exists='append', index=False)\n",
    "            df_dates.to_sql('dim_date', con=engine, if_exists='replace', index=False)\n",
    "            df_transactions.to_sql('fact_transactions', con=engine, if_exists='append', index=False)\n",
    "\n",
    "\n",
    "        except Exception as e:\n",
    "            raise FintechException(e, sys) \n",
    "        \n",
    "        return DataTransformationArtifact(\n",
    "            users=df_users,\n",
    "            cards=df_cards,\n",
    "            merchants=df_merchants,\n",
    "            dates=df_dates,\n",
    "            transactions=df_transactions\n",
    "        )\n",
    "        \n",
    "    def initiate_data_transformation(self,df) -> DataTransformationArtifact:\n",
    "        logging.info('initiate data transformation and upload to db')\n",
    "        try:\n",
    "            logging.info('Create db if are need it')\n",
    "            self.create_database_conn()\n",
    "            logging.info('Database created')\n",
    "            logging.info('uploading to db')\n",
    "            data_transformation_artifact = DataTransformationArtifact(self.upload_to_db())\n",
    "            \n",
    "            return data_transformation_artifact\n",
    "\n",
    "        except Exception as e:\n",
    "            raise FintechException(e,sys)\n",
    "\n",
    "\n",
    "        # Asegurar que 'errors' sea booleano\n",
    "        #df_transactions[\"errors\"] = df_transactions[\"errors\"].notna()\n"
   ]
  },
  {
   "cell_type": "code",
   "execution_count": null,
   "metadata": {},
   "outputs": [],
   "source": []
  }
 ],
 "metadata": {
  "kernelspec": {
   "display_name": "venv",
   "language": "python",
   "name": "python3"
  },
  "language_info": {
   "codemirror_mode": {
    "name": "ipython",
    "version": 3
   },
   "file_extension": ".py",
   "mimetype": "text/x-python",
   "name": "python",
   "nbconvert_exporter": "python",
   "pygments_lexer": "ipython3",
   "version": "3.13.1"
  }
 },
 "nbformat": 4,
 "nbformat_minor": 2
}
